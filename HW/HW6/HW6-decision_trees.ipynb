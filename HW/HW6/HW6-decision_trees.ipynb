{
 "cells": [
  {
   "cell_type": "markdown",
   "metadata": {
    "id": "-JrenrSGmAeg"
   },
   "source": [
    "**HOMEWORK**  \n",
    "\n",
    "The goal of this homework is to create a regression model for predicting housing prices (column 'median_house_value').  \n",
    "\n",
    "In this homework we'll again use the California Housing Prices dataset - the same one we used in homework 2 and 3.\n",
    "\n",
    "You can take it from [Kaggle](https://www.kaggle.com/datasets/camnugent/california-housing-prices) or download using wget link mentioned below:\n",
    "\n",
    "```\n",
    "wget https://raw.githubusercontent.com/alexeygrigorev/datasets/master/housing.csv\n",
    "\n",
    "```\n",
    "\n"
   ]
  },
  {
   "cell_type": "code",
   "execution_count": 1,
   "metadata": {
    "id": "nLosiCNJUjDM"
   },
   "outputs": [
    {
     "name": "stderr",
     "output_type": "stream",
     "text": [
      "C:\\Users\\Mona\\anaconda3\\envs\\mlzoomcamp\\lib\\site-packages\\xgboost\\compat.py:36: FutureWarning: pandas.Int64Index is deprecated and will be removed from pandas in a future version. Use pandas.Index with the appropriate dtype instead.\n",
      "  from pandas import MultiIndex, Int64Index\n",
      "Intel(R) Extension for Scikit-learn* enabled (https://github.com/intel/scikit-learn-intelex)\n"
     ]
    }
   ],
   "source": [
    "#@ IMPORTING LIBRARIES AND DEPENDENCIES:\n",
    "import wget\n",
    "import re\n",
    "import numpy as np\n",
    "import pandas as pd\n",
    "import seaborn as sns\n",
    "import xgboost as xgb\n",
    "import matplotlib.pyplot as plt\n",
    "from tqdm.auto import tqdm\n",
    "# from sklearn.tree import DecisionTreeClassifier\n",
    "from sklearn.tree import DecisionTreeRegressor\n",
    "from sklearn.tree import export_text\n",
    "from sklearn.feature_extraction import DictVectorizer\n",
    "from sklearn.model_selection import train_test_split\n",
    "from sklearn.ensemble import RandomForestRegressor\n",
    "from sklearn.metrics import mean_squared_error\n",
    "\n",
    "from sklearnex import patch_sklearn, config_context\n",
    "patch_sklearn()\n",
    "\n",
    "%matplotlib inline"
   ]
  },
  {
   "cell_type": "code",
   "execution_count": 2,
   "metadata": {
    "id": "4Psk224nnyIF"
   },
   "outputs": [
    {
     "name": "stdout",
     "output_type": "stream",
     "text": [
      "100% [..........................................................................] 1423529 / 1423529"
     ]
    },
    {
     "data": {
      "text/plain": [
       "'housing.csv'"
      ]
     },
     "execution_count": 2,
     "metadata": {},
     "output_type": "execute_result"
    }
   ],
   "source": [
    "#@ DOWNLOADING THE DATASET: UNCOMMENT BELOW:\n",
    "wget.download(\"https://raw.githubusercontent.com/alexeygrigorev/datasets/master/housing.csv\")"
   ]
  },
  {
   "cell_type": "code",
   "execution_count": 3,
   "metadata": {
    "id": "492Hn6-3n08G"
   },
   "outputs": [
    {
     "data": {
      "text/html": [
       "<div>\n",
       "<style scoped>\n",
       "    .dataframe tbody tr th:only-of-type {\n",
       "        vertical-align: middle;\n",
       "    }\n",
       "\n",
       "    .dataframe tbody tr th {\n",
       "        vertical-align: top;\n",
       "    }\n",
       "\n",
       "    .dataframe thead th {\n",
       "        text-align: right;\n",
       "    }\n",
       "</style>\n",
       "<table border=\"1\" class=\"dataframe\">\n",
       "  <thead>\n",
       "    <tr style=\"text-align: right;\">\n",
       "      <th></th>\n",
       "      <th>0</th>\n",
       "      <th>1</th>\n",
       "      <th>2</th>\n",
       "      <th>3</th>\n",
       "      <th>4</th>\n",
       "    </tr>\n",
       "  </thead>\n",
       "  <tbody>\n",
       "    <tr>\n",
       "      <th>longitude</th>\n",
       "      <td>-122.23</td>\n",
       "      <td>-122.22</td>\n",
       "      <td>-122.24</td>\n",
       "      <td>-122.25</td>\n",
       "      <td>-122.25</td>\n",
       "    </tr>\n",
       "    <tr>\n",
       "      <th>latitude</th>\n",
       "      <td>37.88</td>\n",
       "      <td>37.86</td>\n",
       "      <td>37.85</td>\n",
       "      <td>37.85</td>\n",
       "      <td>37.85</td>\n",
       "    </tr>\n",
       "    <tr>\n",
       "      <th>housing_median_age</th>\n",
       "      <td>41.0</td>\n",
       "      <td>21.0</td>\n",
       "      <td>52.0</td>\n",
       "      <td>52.0</td>\n",
       "      <td>52.0</td>\n",
       "    </tr>\n",
       "    <tr>\n",
       "      <th>total_rooms</th>\n",
       "      <td>880.0</td>\n",
       "      <td>7099.0</td>\n",
       "      <td>1467.0</td>\n",
       "      <td>1274.0</td>\n",
       "      <td>1627.0</td>\n",
       "    </tr>\n",
       "    <tr>\n",
       "      <th>total_bedrooms</th>\n",
       "      <td>129.0</td>\n",
       "      <td>1106.0</td>\n",
       "      <td>190.0</td>\n",
       "      <td>235.0</td>\n",
       "      <td>280.0</td>\n",
       "    </tr>\n",
       "    <tr>\n",
       "      <th>population</th>\n",
       "      <td>322.0</td>\n",
       "      <td>2401.0</td>\n",
       "      <td>496.0</td>\n",
       "      <td>558.0</td>\n",
       "      <td>565.0</td>\n",
       "    </tr>\n",
       "    <tr>\n",
       "      <th>households</th>\n",
       "      <td>126.0</td>\n",
       "      <td>1138.0</td>\n",
       "      <td>177.0</td>\n",
       "      <td>219.0</td>\n",
       "      <td>259.0</td>\n",
       "    </tr>\n",
       "    <tr>\n",
       "      <th>median_income</th>\n",
       "      <td>8.3252</td>\n",
       "      <td>8.3014</td>\n",
       "      <td>7.2574</td>\n",
       "      <td>5.6431</td>\n",
       "      <td>3.8462</td>\n",
       "    </tr>\n",
       "    <tr>\n",
       "      <th>median_house_value</th>\n",
       "      <td>452600.0</td>\n",
       "      <td>358500.0</td>\n",
       "      <td>352100.0</td>\n",
       "      <td>341300.0</td>\n",
       "      <td>342200.0</td>\n",
       "    </tr>\n",
       "    <tr>\n",
       "      <th>ocean_proximity</th>\n",
       "      <td>NEAR BAY</td>\n",
       "      <td>NEAR BAY</td>\n",
       "      <td>NEAR BAY</td>\n",
       "      <td>NEAR BAY</td>\n",
       "      <td>NEAR BAY</td>\n",
       "    </tr>\n",
       "  </tbody>\n",
       "</table>\n",
       "</div>"
      ],
      "text/plain": [
       "                           0         1         2         3         4\n",
       "longitude            -122.23   -122.22   -122.24   -122.25   -122.25\n",
       "latitude               37.88     37.86     37.85     37.85     37.85\n",
       "housing_median_age      41.0      21.0      52.0      52.0      52.0\n",
       "total_rooms            880.0    7099.0    1467.0    1274.0    1627.0\n",
       "total_bedrooms         129.0    1106.0     190.0     235.0     280.0\n",
       "population             322.0    2401.0     496.0     558.0     565.0\n",
       "households             126.0    1138.0     177.0     219.0     259.0\n",
       "median_income         8.3252    8.3014    7.2574    5.6431    3.8462\n",
       "median_house_value  452600.0  358500.0  352100.0  341300.0  342200.0\n",
       "ocean_proximity     NEAR BAY  NEAR BAY  NEAR BAY  NEAR BAY  NEAR BAY"
      ]
     },
     "execution_count": 3,
     "metadata": {},
     "output_type": "execute_result"
    }
   ],
   "source": [
    "#@ READING DATASET:\n",
    "PATH = \"./housing.csv\"\n",
    "select_cols = [\"longitude\", \"latitude\", \"housing_median_age\", \"total_rooms\", \"total_bedrooms\", \"population\", \"households\", \n",
    "               \"median_income\", \"median_house_value\", \"ocean_proximity\"]\n",
    "df = pd.read_csv(PATH, usecols=select_cols)\n",
    "df.total_bedrooms = df.total_bedrooms.fillna(0)\n",
    "df.head().T"
   ]
  },
  {
   "cell_type": "code",
   "execution_count": 4,
   "metadata": {},
   "outputs": [
    {
     "data": {
      "text/plain": [
       "longitude             float64\n",
       "latitude              float64\n",
       "housing_median_age    float64\n",
       "total_rooms           float64\n",
       "total_bedrooms        float64\n",
       "population            float64\n",
       "households            float64\n",
       "median_income         float64\n",
       "median_house_value    float64\n",
       "ocean_proximity        object\n",
       "dtype: object"
      ]
     },
     "execution_count": 4,
     "metadata": {},
     "output_type": "execute_result"
    }
   ],
   "source": [
    "df.dtypes"
   ]
  },
  {
   "cell_type": "code",
   "execution_count": 5,
   "metadata": {
    "scrolled": true
   },
   "outputs": [
    {
     "data": {
      "text/html": [
       "<div>\n",
       "<style scoped>\n",
       "    .dataframe tbody tr th:only-of-type {\n",
       "        vertical-align: middle;\n",
       "    }\n",
       "\n",
       "    .dataframe tbody tr th {\n",
       "        vertical-align: top;\n",
       "    }\n",
       "\n",
       "    .dataframe thead th {\n",
       "        text-align: right;\n",
       "    }\n",
       "</style>\n",
       "<table border=\"1\" class=\"dataframe\">\n",
       "  <thead>\n",
       "    <tr style=\"text-align: right;\">\n",
       "      <th></th>\n",
       "      <th>0</th>\n",
       "      <th>1</th>\n",
       "      <th>2</th>\n",
       "      <th>3</th>\n",
       "      <th>4</th>\n",
       "    </tr>\n",
       "  </thead>\n",
       "  <tbody>\n",
       "    <tr>\n",
       "      <th>longitude</th>\n",
       "      <td>-122.23</td>\n",
       "      <td>-122.22</td>\n",
       "      <td>-122.24</td>\n",
       "      <td>-122.25</td>\n",
       "      <td>-122.25</td>\n",
       "    </tr>\n",
       "    <tr>\n",
       "      <th>latitude</th>\n",
       "      <td>37.88</td>\n",
       "      <td>37.86</td>\n",
       "      <td>37.85</td>\n",
       "      <td>37.85</td>\n",
       "      <td>37.85</td>\n",
       "    </tr>\n",
       "    <tr>\n",
       "      <th>housing_median_age</th>\n",
       "      <td>41.0</td>\n",
       "      <td>21.0</td>\n",
       "      <td>52.0</td>\n",
       "      <td>52.0</td>\n",
       "      <td>52.0</td>\n",
       "    </tr>\n",
       "    <tr>\n",
       "      <th>total_rooms</th>\n",
       "      <td>880.0</td>\n",
       "      <td>7099.0</td>\n",
       "      <td>1467.0</td>\n",
       "      <td>1274.0</td>\n",
       "      <td>1627.0</td>\n",
       "    </tr>\n",
       "    <tr>\n",
       "      <th>total_bedrooms</th>\n",
       "      <td>129.0</td>\n",
       "      <td>1106.0</td>\n",
       "      <td>190.0</td>\n",
       "      <td>235.0</td>\n",
       "      <td>280.0</td>\n",
       "    </tr>\n",
       "    <tr>\n",
       "      <th>population</th>\n",
       "      <td>322.0</td>\n",
       "      <td>2401.0</td>\n",
       "      <td>496.0</td>\n",
       "      <td>558.0</td>\n",
       "      <td>565.0</td>\n",
       "    </tr>\n",
       "    <tr>\n",
       "      <th>households</th>\n",
       "      <td>126.0</td>\n",
       "      <td>1138.0</td>\n",
       "      <td>177.0</td>\n",
       "      <td>219.0</td>\n",
       "      <td>259.0</td>\n",
       "    </tr>\n",
       "    <tr>\n",
       "      <th>median_income</th>\n",
       "      <td>8.3252</td>\n",
       "      <td>8.3014</td>\n",
       "      <td>7.2574</td>\n",
       "      <td>5.6431</td>\n",
       "      <td>3.8462</td>\n",
       "    </tr>\n",
       "    <tr>\n",
       "      <th>median_house_value</th>\n",
       "      <td>452600.0</td>\n",
       "      <td>358500.0</td>\n",
       "      <td>352100.0</td>\n",
       "      <td>341300.0</td>\n",
       "      <td>342200.0</td>\n",
       "    </tr>\n",
       "    <tr>\n",
       "      <th>ocean_proximity</th>\n",
       "      <td>near_bay</td>\n",
       "      <td>near_bay</td>\n",
       "      <td>near_bay</td>\n",
       "      <td>near_bay</td>\n",
       "      <td>near_bay</td>\n",
       "    </tr>\n",
       "  </tbody>\n",
       "</table>\n",
       "</div>"
      ],
      "text/plain": [
       "                           0         1         2         3         4\n",
       "longitude            -122.23   -122.22   -122.24   -122.25   -122.25\n",
       "latitude               37.88     37.86     37.85     37.85     37.85\n",
       "housing_median_age      41.0      21.0      52.0      52.0      52.0\n",
       "total_rooms            880.0    7099.0    1467.0    1274.0    1627.0\n",
       "total_bedrooms         129.0    1106.0     190.0     235.0     280.0\n",
       "population             322.0    2401.0     496.0     558.0     565.0\n",
       "households             126.0    1138.0     177.0     219.0     259.0\n",
       "median_income         8.3252    8.3014    7.2574    5.6431    3.8462\n",
       "median_house_value  452600.0  358500.0  352100.0  341300.0  342200.0\n",
       "ocean_proximity     near_bay  near_bay  near_bay  near_bay  near_bay"
      ]
     },
     "execution_count": 5,
     "metadata": {},
     "output_type": "execute_result"
    }
   ],
   "source": [
    "# for column names:\n",
    "\n",
    "df.columns = df.columns.str.lower().str.replace(' ', '_')\n",
    "\n",
    "# for data in the dataframe:\n",
    "\n",
    "strings = list(df.dtypes[df.dtypes == 'object'].index)\n",
    "for col in strings:\n",
    "    df[col] = df[col].str.lower().str.replace(' ', '_')\n",
    "\n",
    "df.head(5).T"
   ]
  },
  {
   "cell_type": "code",
   "execution_count": 6,
   "metadata": {},
   "outputs": [
    {
     "data": {
      "text/plain": [
       "longitude             0\n",
       "latitude              0\n",
       "housing_median_age    0\n",
       "total_rooms           0\n",
       "total_bedrooms        0\n",
       "population            0\n",
       "households            0\n",
       "median_income         0\n",
       "median_house_value    0\n",
       "ocean_proximity       0\n",
       "dtype: int64"
      ]
     },
     "execution_count": 6,
     "metadata": {},
     "output_type": "execute_result"
    }
   ],
   "source": [
    "# checking if any missing values exist in any of the missing columns:\n",
    "df.isna().sum(axis=0)"
   ]
  },
  {
   "cell_type": "code",
   "execution_count": 7,
   "metadata": {},
   "outputs": [],
   "source": [
    "# column_names = df.columns[df.isnull().any()].to_list()\n",
    "\n",
    "# for column in column_names:\n",
    "#     df[column].fillna(0, inplace=True) \n",
    "    \n",
    "# df.isna().sum(axis=0)"
   ]
  },
  {
   "cell_type": "markdown",
   "metadata": {
    "id": "OqXppJ_Ro0H0"
   },
   "source": [
    "- Apply the log transform to `median_house_value`. \n",
    "- Do train/validation/test split with 60%/20%/20% distribution.\n",
    "- Use the `train_test_split` function and set the `random_state parameter` to 1."
   ]
  },
  {
   "cell_type": "code",
   "execution_count": 8,
   "metadata": {},
   "outputs": [
    {
     "data": {
      "text/plain": [
       "0        13.022766\n",
       "1        12.789687\n",
       "2        12.771673\n",
       "3        12.740520\n",
       "4        12.743154\n",
       "           ...    \n",
       "20635    11.265758\n",
       "20636    11.252872\n",
       "20637    11.432810\n",
       "20638    11.346883\n",
       "20639    11.400887\n",
       "Name: median_house_value, Length: 20640, dtype: float64"
      ]
     },
     "execution_count": 8,
     "metadata": {},
     "output_type": "execute_result"
    }
   ],
   "source": [
    "features = df.drop(columns='median_house_value')\n",
    "features.head()\n",
    "target = df[\"median_house_value\"]\n",
    "target.head()\n",
    "log_target = np.log1p(target)\n",
    "log_target"
   ]
  },
  {
   "cell_type": "code",
   "execution_count": 9,
   "metadata": {
    "id": "W1MmdcRDpHS1"
   },
   "outputs": [],
   "source": [
    "#@ SPLITTING THE DATASET FOR TRAINING AND TEST:\n",
    "\n",
    "from sklearn.model_selection import train_test_split\n",
    "\n",
    "\n",
    "x_train_full, x_test, y_train_full, y_test = train_test_split(features, log_target, test_size=0.2, random_state=1)\n",
    "x_train, x_val, y_train, y_val = train_test_split(x_train_full, y_train_full, test_size=0.25, random_state=1)\n",
    "\n",
    "splits = [x_train_full, x_train, x_val, x_test]\n",
    "for split in splits:\n",
    "        split.reset_index(inplace = True)\n",
    "\n",
    "splits = [y_train_full,y_train, y_val, y_test]\n",
    "for split in splits:\n",
    "         split.reset_index(drop = True, inplace = True)    \n",
    "       "
   ]
  },
  {
   "cell_type": "markdown",
   "metadata": {
    "id": "5VKq8FX7qIVM"
   },
   "source": [
    "- We will use `DictVectorizer` to turn train and validation into matrices."
   ]
  },
  {
   "cell_type": "code",
   "execution_count": 10,
   "metadata": {
    "id": "WnfFrWe9qtuc"
   },
   "outputs": [],
   "source": [
    "#@ IMPLEMENTATION OF DICTVECTORIZER:\n",
    "\n",
    "dv = DictVectorizer(sparse=False)\n",
    "\n",
    "train_dict = x_train.to_dict(orient='records')\n",
    "x_train_OH = dv.fit_transform(train_dict)\n",
    "\n",
    "val_dict = x_val.to_dict(orient='records')\n",
    "x_val_OH = dv.transform(val_dict)\n"
   ]
  },
  {
   "cell_type": "markdown",
   "metadata": {
    "id": "qvxmhaD5hmAK"
   },
   "source": [
    "**Question 1**\n",
    "\n",
    "Let's train a decision tree regressor to predict the `median_house_value` variable.\n",
    "\n",
    "Train a model with `max_depth=1`."
   ]
  },
  {
   "cell_type": "code",
   "execution_count": 12,
   "metadata": {
    "id": "cqBcSbpIq7kJ"
   },
   "outputs": [],
   "source": [
    "#@ TRAINING THE REGRESSION MODEL:\n",
    "\n",
    "dt = DecisionTreeRegressor(max_depth=1)\n",
    "dt.fit(x_train_OH, y_train)\n",
    "y_pred = dt.predict(x_val_OH)"
   ]
  },
  {
   "cell_type": "code",
   "execution_count": 13,
   "metadata": {
    "id": "sLAnqRwuikqQ"
   },
   "outputs": [
    {
     "name": "stdout",
     "output_type": "stream",
     "text": [
      "|--- ocean_proximity=inland <= 0.50\n",
      "|   |--- value: [12.31]\n",
      "|--- ocean_proximity=inland >  0.50\n",
      "|   |--- value: [11.61]\n",
      "\n"
     ]
    },
    {
     "name": "stderr",
     "output_type": "stream",
     "text": [
      "C:\\Users\\Mona\\anaconda3\\envs\\mlzoomcamp\\lib\\site-packages\\sklearn\\utils\\deprecation.py:87: FutureWarning: Function get_feature_names is deprecated; get_feature_names is deprecated in 1.0 and will be removed in 1.2. Please use get_feature_names_out instead.\n",
      "  warnings.warn(msg, category=FutureWarning)\n"
     ]
    }
   ],
   "source": [
    "#@ INSPECTION:\n",
    "\n",
    "print(export_text(dt, feature_names=dv.get_feature_names()))"
   ]
  },
  {
   "cell_type": "markdown",
   "metadata": {
    "id": "JNBm-qeRp6aZ"
   },
   "source": [
    "- Which feature is used for splitting the data?\n",
    "\n",
    "- Answer: **ocean_proximity=inland**"
   ]
  },
  {
   "cell_type": "markdown",
   "metadata": {
    "id": "Xhnbdy-CqQoB"
   },
   "source": [
    "**Question 2**\n",
    "\n",
    "Train a random forest model with these parameters:\n",
    "\n",
    "- `n_estimators=10`  \n",
    "- `random_state=1`  \n",
    "- `n_jobs=-1` (optional-to make training faster)"
   ]
  },
  {
   "cell_type": "code",
   "execution_count": 14,
   "metadata": {
    "id": "2w-YSGYMisFt"
   },
   "outputs": [],
   "source": [
    "#@ TRAINING RANDOM FOREST MODEL:\n",
    "\n",
    "n_estimators=10  \n",
    "random_state=1  \n",
    "n_jobs=-1 \n",
    "\n",
    "rf = RandomForestRegressor(n_estimators=n_estimators,\n",
    "                            random_state=random_state,\n",
    "                           n_jobs = n_jobs)\n",
    "rf.fit(x_train_OH, y_train)\n",
    "y_pred = rf.predict(x_val_OH)"
   ]
  },
  {
   "cell_type": "code",
   "execution_count": 15,
   "metadata": {
    "id": "jCxUAO2Rq1Ps"
   },
   "outputs": [
    {
     "data": {
      "text/plain": [
       "0.237"
      ]
     },
     "execution_count": 15,
     "metadata": {},
     "output_type": "execute_result"
    }
   ],
   "source": [
    "#@ CALCULATING MEAN SQUARED ERROR:\n",
    "# squaredbool, default=True\n",
    "#    If True returns MSE value, if False returns RMSE value.\n",
    "\n",
    "round(mean_squared_error(y_val, y_pred, squared=False),3)"
   ]
  },
  {
   "cell_type": "markdown",
   "metadata": {
    "id": "jfcDllHxrTqu"
   },
   "source": [
    "- What's the RMSE of this model on validation?\n",
    "\n",
    "- Answer: **0.237**"
   ]
  },
  {
   "cell_type": "markdown",
   "metadata": {
    "id": "Y7K69bFSrg_V"
   },
   "source": [
    "**Question 3**\n",
    "\n",
    "Now, let's experiment with the `n_estimators` parameter.\n",
    "\n",
    "- Try different values of this parameter from 10 to 200 with step 10.\n",
    "- Set `random_state` to 1.\n",
    "- Evaluate the model on the validation dataset."
   ]
  },
  {
   "cell_type": "code",
   "execution_count": 17,
   "metadata": {
    "id": "-oUFCQwOrQNN"
   },
   "outputs": [
    {
     "data": {
      "text/html": [
       "<div>\n",
       "<style scoped>\n",
       "    .dataframe tbody tr th:only-of-type {\n",
       "        vertical-align: middle;\n",
       "    }\n",
       "\n",
       "    .dataframe tbody tr th {\n",
       "        vertical-align: top;\n",
       "    }\n",
       "\n",
       "    .dataframe thead th {\n",
       "        text-align: right;\n",
       "    }\n",
       "</style>\n",
       "<table border=\"1\" class=\"dataframe\">\n",
       "  <thead>\n",
       "    <tr style=\"text-align: right;\">\n",
       "      <th></th>\n",
       "      <th>n_estimators</th>\n",
       "      <th>RMSE</th>\n",
       "    </tr>\n",
       "  </thead>\n",
       "  <tbody>\n",
       "    <tr>\n",
       "      <th>0</th>\n",
       "      <td>10</td>\n",
       "      <td>0.236755</td>\n",
       "    </tr>\n",
       "    <tr>\n",
       "      <th>1</th>\n",
       "      <td>20</td>\n",
       "      <td>0.229005</td>\n",
       "    </tr>\n",
       "    <tr>\n",
       "      <th>2</th>\n",
       "      <td>30</td>\n",
       "      <td>0.226680</td>\n",
       "    </tr>\n",
       "    <tr>\n",
       "      <th>3</th>\n",
       "      <td>40</td>\n",
       "      <td>0.226321</td>\n",
       "    </tr>\n",
       "    <tr>\n",
       "      <th>4</th>\n",
       "      <td>50</td>\n",
       "      <td>0.226023</td>\n",
       "    </tr>\n",
       "    <tr>\n",
       "      <th>5</th>\n",
       "      <td>60</td>\n",
       "      <td>0.225379</td>\n",
       "    </tr>\n",
       "    <tr>\n",
       "      <th>6</th>\n",
       "      <td>70</td>\n",
       "      <td>0.224517</td>\n",
       "    </tr>\n",
       "    <tr>\n",
       "      <th>7</th>\n",
       "      <td>80</td>\n",
       "      <td>0.224515</td>\n",
       "    </tr>\n",
       "    <tr>\n",
       "      <th>8</th>\n",
       "      <td>90</td>\n",
       "      <td>0.224199</td>\n",
       "    </tr>\n",
       "    <tr>\n",
       "      <th>9</th>\n",
       "      <td>100</td>\n",
       "      <td>0.224151</td>\n",
       "    </tr>\n",
       "    <tr>\n",
       "      <th>10</th>\n",
       "      <td>110</td>\n",
       "      <td>0.223843</td>\n",
       "    </tr>\n",
       "    <tr>\n",
       "      <th>11</th>\n",
       "      <td>120</td>\n",
       "      <td>0.223798</td>\n",
       "    </tr>\n",
       "    <tr>\n",
       "      <th>12</th>\n",
       "      <td>130</td>\n",
       "      <td>0.223836</td>\n",
       "    </tr>\n",
       "    <tr>\n",
       "      <th>13</th>\n",
       "      <td>140</td>\n",
       "      <td>0.223845</td>\n",
       "    </tr>\n",
       "    <tr>\n",
       "      <th>14</th>\n",
       "      <td>150</td>\n",
       "      <td>0.223700</td>\n",
       "    </tr>\n",
       "    <tr>\n",
       "      <th>15</th>\n",
       "      <td>160</td>\n",
       "      <td>0.223788</td>\n",
       "    </tr>\n",
       "    <tr>\n",
       "      <th>16</th>\n",
       "      <td>170</td>\n",
       "      <td>0.223752</td>\n",
       "    </tr>\n",
       "    <tr>\n",
       "      <th>17</th>\n",
       "      <td>180</td>\n",
       "      <td>0.224003</td>\n",
       "    </tr>\n",
       "    <tr>\n",
       "      <th>18</th>\n",
       "      <td>190</td>\n",
       "      <td>0.224002</td>\n",
       "    </tr>\n",
       "    <tr>\n",
       "      <th>19</th>\n",
       "      <td>200</td>\n",
       "      <td>0.223990</td>\n",
       "    </tr>\n",
       "  </tbody>\n",
       "</table>\n",
       "</div>"
      ],
      "text/plain": [
       "    n_estimators      RMSE\n",
       "0             10  0.236755\n",
       "1             20  0.229005\n",
       "2             30  0.226680\n",
       "3             40  0.226321\n",
       "4             50  0.226023\n",
       "5             60  0.225379\n",
       "6             70  0.224517\n",
       "7             80  0.224515\n",
       "8             90  0.224199\n",
       "9            100  0.224151\n",
       "10           110  0.223843\n",
       "11           120  0.223798\n",
       "12           130  0.223836\n",
       "13           140  0.223845\n",
       "14           150  0.223700\n",
       "15           160  0.223788\n",
       "16           170  0.223752\n",
       "17           180  0.224003\n",
       "18           190  0.224002\n",
       "19           200  0.223990"
      ]
     },
     "execution_count": 17,
     "metadata": {},
     "output_type": "execute_result"
    }
   ],
   "source": [
    "#@ TRAINING THE RANDOM FOREST MODEL:\n",
    "\n",
    "scores = []\n",
    "range_n_estimators = np.arange(10, 210, 10)\n",
    "\n",
    "for n_est in range_n_estimators:\n",
    "    \n",
    "        rf = RandomForestRegressor(n_estimators=n_est,\n",
    "                                    random_state=1,\n",
    "                                    n_jobs = -1)\n",
    "        rf.fit(x_train_OH, y_train)\n",
    "\n",
    "        y_pred = rf.predict(x_val_OH)\n",
    "        rmse = mean_squared_error(y_val, y_pred, squared=False)\n",
    "        scores.append((n_est,rmse))\n",
    "        \n",
    "df_scores = pd.DataFrame(scores, columns=['n_estimators', 'RMSE'])\n",
    "df_scores"
   ]
  },
  {
   "cell_type": "code",
   "execution_count": 18,
   "metadata": {
    "id": "3J-wFLh4s8Ky"
   },
   "outputs": [
    {
     "data": {
      "text/plain": [
       "Text(0, 0.5, 'RMSE')"
      ]
     },
     "execution_count": 18,
     "metadata": {},
     "output_type": "execute_result"
    },
    {
     "data": {
      "image/png": "[encoded data removed]",
      "text/plain": [
       "<Figure size 640x480 with 1 Axes>"
      ]
     },
     "metadata": {},
     "output_type": "display_data"
    }
   ],
   "source": [
    "#@ INSPECTING THE RMSE SCORES:\n",
    "\n",
    "plt.plot(df_scores.n_estimators, df_scores.RMSE)\n",
    "plt.xlabel(\"n_estimators\")\n",
    "plt.ylabel(\"RMSE\")"
   ]
  },
  {
   "cell_type": "markdown",
   "metadata": {
    "id": "NAXZcW3AuC-d"
   },
   "source": [
    "- After which value of `n_estimators` does RMSE stop improving?\n",
    "\n",
    "- Answer: **150**"
   ]
  },
  {
   "cell_type": "markdown",
   "metadata": {
    "id": "CYhRv3kEvWjK"
   },
   "source": [
    "**Question 4**\n",
    "\n",
    "Let's select the best `max_depth`:\n",
    "\n",
    "- Try different values of `max_depth`: [10, 15, 20, 25].\n",
    "- For each of these values, try different values of n_estimators from 10 till 200 (with step 10).\n",
    "- Fix the random seed: `random_state=1`."
   ]
  },
  {
   "cell_type": "code",
   "execution_count": 19,
   "metadata": {
    "id": "fO9TackKvKcS"
   },
   "outputs": [],
   "source": [
    "#@ TRAINING THE MODEL WITH DEPTH:\n",
    "\n",
    "scores = []\n",
    "max_depth = [10, 15, 20, 25]\n",
    "range_n_estimators = np.arange(10, 210, 10)\n",
    "\n",
    "for d in max_depth:\n",
    "    for n_est in range_n_estimators:\n",
    "\n",
    "            rf = RandomForestRegressor(n_estimators=n_est,\n",
    "                                        max_depth= d,\n",
    "                                        random_state=1,\n",
    "                                        n_jobs = -1)\n",
    "            rf.fit(x_train_OH, y_train)\n",
    "\n",
    "            y_pred = rf.predict(x_val_OH)\n",
    "            rmse = mean_squared_error(y_val, y_pred, squared=False)\n",
    "\n",
    "            scores.append((d, n_est,rmse))\n",
    "    "
   ]
  },
  {
   "cell_type": "code",
   "execution_count": 20,
   "metadata": {},
   "outputs": [
    {
     "data": {
      "text/html": [
       "<div>\n",
       "<style scoped>\n",
       "    .dataframe tbody tr th:only-of-type {\n",
       "        vertical-align: middle;\n",
       "    }\n",
       "\n",
       "    .dataframe tbody tr th {\n",
       "        vertical-align: top;\n",
       "    }\n",
       "\n",
       "    .dataframe thead th {\n",
       "        text-align: right;\n",
       "    }\n",
       "</style>\n",
       "<table border=\"1\" class=\"dataframe\">\n",
       "  <thead>\n",
       "    <tr style=\"text-align: right;\">\n",
       "      <th></th>\n",
       "      <th>max_depth</th>\n",
       "      <th>n_estimators</th>\n",
       "      <th>RMSE</th>\n",
       "    </tr>\n",
       "  </thead>\n",
       "  <tbody>\n",
       "    <tr>\n",
       "      <th>0</th>\n",
       "      <td>10</td>\n",
       "      <td>10</td>\n",
       "      <td>0.253136</td>\n",
       "    </tr>\n",
       "    <tr>\n",
       "      <th>1</th>\n",
       "      <td>10</td>\n",
       "      <td>20</td>\n",
       "      <td>0.250160</td>\n",
       "    </tr>\n",
       "    <tr>\n",
       "      <th>2</th>\n",
       "      <td>10</td>\n",
       "      <td>30</td>\n",
       "      <td>0.250099</td>\n",
       "    </tr>\n",
       "    <tr>\n",
       "      <th>3</th>\n",
       "      <td>10</td>\n",
       "      <td>40</td>\n",
       "      <td>0.249999</td>\n",
       "    </tr>\n",
       "    <tr>\n",
       "      <th>4</th>\n",
       "      <td>10</td>\n",
       "      <td>50</td>\n",
       "      <td>0.250147</td>\n",
       "    </tr>\n",
       "    <tr>\n",
       "      <th>...</th>\n",
       "      <td>...</td>\n",
       "      <td>...</td>\n",
       "      <td>...</td>\n",
       "    </tr>\n",
       "    <tr>\n",
       "      <th>75</th>\n",
       "      <td>25</td>\n",
       "      <td>160</td>\n",
       "      <td>0.223528</td>\n",
       "    </tr>\n",
       "    <tr>\n",
       "      <th>76</th>\n",
       "      <td>25</td>\n",
       "      <td>170</td>\n",
       "      <td>0.223510</td>\n",
       "    </tr>\n",
       "    <tr>\n",
       "      <th>77</th>\n",
       "      <td>25</td>\n",
       "      <td>180</td>\n",
       "      <td>0.223809</td>\n",
       "    </tr>\n",
       "    <tr>\n",
       "      <th>78</th>\n",
       "      <td>25</td>\n",
       "      <td>190</td>\n",
       "      <td>0.223822</td>\n",
       "    </tr>\n",
       "    <tr>\n",
       "      <th>79</th>\n",
       "      <td>25</td>\n",
       "      <td>200</td>\n",
       "      <td>0.223896</td>\n",
       "    </tr>\n",
       "  </tbody>\n",
       "</table>\n",
       "<p>80 rows × 3 columns</p>\n",
       "</div>"
      ],
      "text/plain": [
       "    max_depth  n_estimators      RMSE\n",
       "0          10            10  0.253136\n",
       "1          10            20  0.250160\n",
       "2          10            30  0.250099\n",
       "3          10            40  0.249999\n",
       "4          10            50  0.250147\n",
       "..        ...           ...       ...\n",
       "75         25           160  0.223528\n",
       "76         25           170  0.223510\n",
       "77         25           180  0.223809\n",
       "78         25           190  0.223822\n",
       "79         25           200  0.223896\n",
       "\n",
       "[80 rows x 3 columns]"
      ]
     },
     "execution_count": 20,
     "metadata": {},
     "output_type": "execute_result"
    }
   ],
   "source": [
    "columns = ['max_depth', 'n_estimators', 'RMSE']\n",
    "df_scores = pd.DataFrame(scores, columns=columns)\n",
    "df_scores"
   ]
  },
  {
   "cell_type": "code",
   "execution_count": 21,
   "metadata": {},
   "outputs": [
    {
     "data": {
      "text/plain": [
       "<matplotlib.legend.Legend at 0x22af8a80d30>"
      ]
     },
     "execution_count": 21,
     "metadata": {},
     "output_type": "execute_result"
    },
    {
     "data": {
      "image/png": "[encoded data removed]",
      "text/plain": [
       "<Figure size 640x480 with 1 Axes>"
      ]
     },
     "metadata": {},
     "output_type": "display_data"
    }
   ],
   "source": [
    "for d in max_depth:\n",
    "    df_subset = df_scores[df_scores.max_depth == d]\n",
    "    \n",
    "    plt.plot(df_subset.n_estimators, df_subset.RMSE,\n",
    "             label='max_depth=%d' % d)\n",
    "    \n",
    "    \n",
    "plt.xlabel(\"n_estimators\")\n",
    "plt.ylabel(\"RMSE\")\n",
    "plt.legend()"
   ]
  },
  {
   "cell_type": "markdown",
   "metadata": {
    "id": "eCRCaKlSwp7D"
   },
   "source": [
    "- What's the best `max_depth`:\n",
    "\n",
    "- Answer: **25**"
   ]
  },
  {
   "cell_type": "markdown",
   "metadata": {
    "id": "BDLbx3N5xAoY"
   },
   "source": [
    "**Question 5**\n",
    "\n",
    "We can extract feature importance information from tree-based models.\n",
    "\n",
    "At each step of the decision tree learning algorith, it finds the best split. When doint it, we can calculate \"gain\" - the reduction in impurity before and after the split. This gain is quite useful in understanding what are the imporatant features for tree-based models.\n",
    "\n",
    "In Scikit-Learn, tree-based models contain this information in the `feature_importances_` field.\n",
    "\n",
    "For this homework question, we'll find the most important feature:\n",
    "\n",
    "Train the model with these parametes:\n",
    "- `n_estimators=10`,\n",
    "- `max_depth=20`,\n",
    "- `random_state=1`,\n",
    "- `n_jobs=-1` (optional)\n",
    "\n",
    "Get the feature importance information from this model"
   ]
  },
  {
   "cell_type": "code",
   "execution_count": 22,
   "metadata": {
    "id": "UICqST2Qwhbj"
   },
   "outputs": [],
   "source": [
    "#@ TRAINING THE RANDOM FOREST MODEL:\n",
    "\n",
    "n_estimators=10\n",
    "max_depth=20\n",
    "random_state=1  \n",
    "n_jobs=-1 \n",
    "\n",
    "rf = RandomForestRegressor(n_estimators=n_estimators,\n",
    "                           max_depth=max_depth,\n",
    "                           random_state=random_state,\n",
    "                           n_jobs = n_jobs)\n",
    "rf.fit(x_train_OH, y_train)\n",
    "\n",
    "importances = rf.feature_importances_\n",
    "std = np.std([tree.feature_importances_ for tree in rf.estimators_], axis=0)\n",
    "\n"
   ]
  },
  {
   "cell_type": "code",
   "execution_count": 23,
   "metadata": {},
   "outputs": [
    {
     "name": "stderr",
     "output_type": "stream",
     "text": [
      "C:\\Users\\Mona\\anaconda3\\envs\\mlzoomcamp\\lib\\site-packages\\sklearn\\utils\\deprecation.py:87: FutureWarning: Function get_feature_names is deprecated; get_feature_names is deprecated in 1.0 and will be removed in 1.2. Please use get_feature_names_out instead.\n",
      "  warnings.warn(msg, category=FutureWarning)\n"
     ]
    },
    {
     "data": {
      "image/png": "[encoded data removed]",
      "text/plain": [
       "<Figure size 640x480 with 1 Axes>"
      ]
     },
     "metadata": {},
     "output_type": "display_data"
    }
   ],
   "source": [
    "forest_importances = pd.Series(importances, index= dv.get_feature_names())\n",
    "\n",
    "fig, ax = plt.subplots()\n",
    "forest_importances.plot.bar(yerr=std, ax=ax)\n",
    "ax.set_title(\"Feature importances using MDI\")\n",
    "ax.set_ylabel(\"Mean decrease in impurity\")\n",
    "fig.tight_layout()"
   ]
  },
  {
   "cell_type": "markdown",
   "metadata": {
    "id": "kSCqlx9jye1s"
   },
   "source": [
    "- What's the most important feature?\n",
    "\n",
    "- Answer: **median_income**"
   ]
  },
  {
   "cell_type": "markdown",
   "metadata": {
    "id": "K5KEdiTMzPaI"
   },
   "source": [
    "**Question 6**\n",
    "\n",
    "Now let's train an XGBoost model! For this question, we'll tune the eta parameter:\n",
    "\n",
    "- Install XGBoost.\n",
    "- Create DMatrix for train and validation\n",
    "- Create a watchlist\n",
    "- Train a model with these parameters for 100 rounds:\n",
    "\n",
    "```\n",
    "xgb_params = {  \n",
    "    'eta': 0.3,  \n",
    "    'max_depth': 6,  \n",
    "    'min_child_weight': 1,  \n",
    "\n",
    "    'objective': 'reg:squarederror',\n",
    "    'nthread': 8,\n",
    "\n",
    "    'seed': 1,\n",
    "    'verbosity': 1,\n",
    "}\n",
    "```\n",
    "\n"
   ]
  },
  {
   "cell_type": "code",
   "execution_count": 24,
   "metadata": {
    "id": "TUP0uoL5yZTc"
   },
   "outputs": [
    {
     "data": {
      "text/plain": [
       "['households',\n",
       " 'housing_median_age',\n",
       " 'index',\n",
       " 'latitude',\n",
       " 'longitude',\n",
       " 'median_income',\n",
       " 'ocean_proximity=<1h_ocean',\n",
       " 'ocean_proximity=inland',\n",
       " 'ocean_proximity=island',\n",
       " 'ocean_proximity=near_bay',\n",
       " 'ocean_proximity=near_ocean',\n",
       " 'population',\n",
       " 'total_bedrooms',\n",
       " 'total_rooms']"
      ]
     },
     "execution_count": 24,
     "metadata": {},
     "output_type": "execute_result"
    }
   ],
   "source": [
    "#@ CREATING THE DMARTIX:\n",
    "features = dv.feature_names_\n",
    "features"
   ]
  },
  {
   "cell_type": "code",
   "execution_count": 25,
   "metadata": {},
   "outputs": [],
   "source": [
    "# ValueError: feature_names must be string, and may not contain [, ] or <"
   ]
  },
  {
   "cell_type": "code",
   "execution_count": 26,
   "metadata": {},
   "outputs": [
    {
     "data": {
      "text/plain": [
       "['households',\n",
       " 'housing_median_age',\n",
       " 'index',\n",
       " 'latitude',\n",
       " 'longitude',\n",
       " 'median_income',\n",
       " 'ocean_proximity_1h_ocean',\n",
       " 'ocean_proximity=inland',\n",
       " 'ocean_proximity=island',\n",
       " 'ocean_proximity=near_bay',\n",
       " 'ocean_proximity=near_ocean',\n",
       " 'population',\n",
       " 'total_bedrooms',\n",
       " 'total_rooms']"
      ]
     },
     "execution_count": 26,
     "metadata": {},
     "output_type": "execute_result"
    }
   ],
   "source": [
    "regex = re.compile(r\"=<|\\[|\\]\", re.IGNORECASE)\n",
    "features = [regex.sub(\"_\", col) if any(x in str(col) for x in set(('=','<','[', ']'))) else col for col in features]\n",
    "features"
   ]
  },
  {
   "cell_type": "code",
   "execution_count": 27,
   "metadata": {},
   "outputs": [],
   "source": [
    "dtrain = xgb.DMatrix(x_train_OH, label=y_train, feature_names=features)\n",
    "dval = xgb.DMatrix(x_val_OH, label=y_val, feature_names=features)"
   ]
  },
  {
   "cell_type": "code",
   "execution_count": 31,
   "metadata": {
    "id": "lRRzLznP-Z-Q"
   },
   "outputs": [
    {
     "name": "stdout",
     "output_type": "stream",
     "text": [
      "[0]\ttrain-rmse:8.12733\teval-rmse:8.13245\n",
      "[1]\ttrain-rmse:5.69586\teval-rmse:5.70070\n",
      "[2]\ttrain-rmse:3.99534\teval-rmse:3.99961\n",
      "[3]\ttrain-rmse:2.80673\teval-rmse:2.81054\n",
      "[4]\ttrain-rmse:1.97720\teval-rmse:1.98060\n",
      "[5]\ttrain-rmse:1.40055\teval-rmse:1.40602\n",
      "[6]\ttrain-rmse:0.99978\teval-rmse:1.00616\n",
      "[7]\ttrain-rmse:0.72601\teval-rmse:0.73398\n",
      "[8]\ttrain-rmse:0.54258\teval-rmse:0.55300\n",
      "[9]\ttrain-rmse:0.41736\teval-rmse:0.42933\n",
      "[10]\ttrain-rmse:0.33893\teval-rmse:0.35412\n",
      "[11]\ttrain-rmse:0.29138\teval-rmse:0.30958\n",
      "[12]\ttrain-rmse:0.26111\teval-rmse:0.28264\n",
      "[13]\ttrain-rmse:0.24329\teval-rmse:0.26688\n",
      "[14]\ttrain-rmse:0.23230\teval-rmse:0.25818\n",
      "[15]\ttrain-rmse:0.22253\teval-rmse:0.25095\n",
      "[16]\ttrain-rmse:0.21892\teval-rmse:0.24870\n",
      "[17]\ttrain-rmse:0.21494\teval-rmse:0.24610\n",
      "[18]\ttrain-rmse:0.21136\teval-rmse:0.24455\n",
      "[19]\ttrain-rmse:0.20852\teval-rmse:0.24297\n",
      "[20]\ttrain-rmse:0.20725\teval-rmse:0.24240\n",
      "[21]\ttrain-rmse:0.20616\teval-rmse:0.24173\n",
      "[22]\ttrain-rmse:0.20181\teval-rmse:0.23875\n",
      "[23]\ttrain-rmse:0.20098\teval-rmse:0.23887\n",
      "[24]\ttrain-rmse:0.19913\teval-rmse:0.23777\n",
      "[25]\ttrain-rmse:0.19828\teval-rmse:0.23732\n",
      "[26]\ttrain-rmse:0.19547\teval-rmse:0.23543\n",
      "[27]\ttrain-rmse:0.19337\teval-rmse:0.23525\n",
      "[28]\ttrain-rmse:0.19215\teval-rmse:0.23495\n",
      "[29]\ttrain-rmse:0.19137\teval-rmse:0.23467\n",
      "[30]\ttrain-rmse:0.18889\teval-rmse:0.23401\n",
      "[31]\ttrain-rmse:0.18722\teval-rmse:0.23342\n",
      "[32]\ttrain-rmse:0.18665\teval-rmse:0.23336\n",
      "[33]\ttrain-rmse:0.18511\teval-rmse:0.23287\n",
      "[34]\ttrain-rmse:0.18246\teval-rmse:0.23168\n",
      "[35]\ttrain-rmse:0.18131\teval-rmse:0.23107\n",
      "[36]\ttrain-rmse:0.18000\teval-rmse:0.23086\n",
      "[37]\ttrain-rmse:0.17886\teval-rmse:0.23065\n",
      "[38]\ttrain-rmse:0.17822\teval-rmse:0.23049\n",
      "[39]\ttrain-rmse:0.17604\teval-rmse:0.22937\n",
      "[40]\ttrain-rmse:0.17554\teval-rmse:0.22904\n",
      "[41]\ttrain-rmse:0.17364\teval-rmse:0.22863\n",
      "[42]\ttrain-rmse:0.17284\teval-rmse:0.22842\n",
      "[43]\ttrain-rmse:0.17199\teval-rmse:0.22805\n",
      "[44]\ttrain-rmse:0.17164\teval-rmse:0.22794\n",
      "[45]\ttrain-rmse:0.17040\teval-rmse:0.22794\n",
      "[46]\ttrain-rmse:0.17009\teval-rmse:0.22789\n",
      "[47]\ttrain-rmse:0.16836\teval-rmse:0.22696\n",
      "[48]\ttrain-rmse:0.16722\teval-rmse:0.22661\n",
      "[49]\ttrain-rmse:0.16625\teval-rmse:0.22623\n",
      "[50]\ttrain-rmse:0.16567\teval-rmse:0.22609\n",
      "[51]\ttrain-rmse:0.16467\teval-rmse:0.22545\n",
      "[52]\ttrain-rmse:0.16422\teval-rmse:0.22544\n",
      "[53]\ttrain-rmse:0.16337\teval-rmse:0.22523\n",
      "[54]\ttrain-rmse:0.16192\teval-rmse:0.22492\n",
      "[55]\ttrain-rmse:0.16089\teval-rmse:0.22483\n",
      "[56]\ttrain-rmse:0.16038\teval-rmse:0.22461\n",
      "[57]\ttrain-rmse:0.15917\teval-rmse:0.22406\n",
      "[58]\ttrain-rmse:0.15804\teval-rmse:0.22429\n",
      "[59]\ttrain-rmse:0.15660\teval-rmse:0.22377\n",
      "[60]\ttrain-rmse:0.15611\teval-rmse:0.22364\n",
      "[61]\ttrain-rmse:0.15568\teval-rmse:0.22349\n",
      "[62]\ttrain-rmse:0.15535\teval-rmse:0.22355\n",
      "[63]\ttrain-rmse:0.15432\teval-rmse:0.22370\n",
      "[64]\ttrain-rmse:0.15343\teval-rmse:0.22350\n",
      "[65]\ttrain-rmse:0.15250\teval-rmse:0.22325\n",
      "[66]\ttrain-rmse:0.15158\teval-rmse:0.22300\n",
      "[67]\ttrain-rmse:0.15137\teval-rmse:0.22297\n",
      "[68]\ttrain-rmse:0.15026\teval-rmse:0.22281\n",
      "[69]\ttrain-rmse:0.14945\teval-rmse:0.22275\n",
      "[70]\ttrain-rmse:0.14881\teval-rmse:0.22254\n",
      "[71]\ttrain-rmse:0.14761\teval-rmse:0.22221\n",
      "[72]\ttrain-rmse:0.14704\teval-rmse:0.22200\n",
      "[73]\ttrain-rmse:0.14672\teval-rmse:0.22201\n",
      "[74]\ttrain-rmse:0.14615\teval-rmse:0.22183\n",
      "[75]\ttrain-rmse:0.14556\teval-rmse:0.22176\n",
      "[76]\ttrain-rmse:0.14512\teval-rmse:0.22168\n",
      "[77]\ttrain-rmse:0.14428\teval-rmse:0.22136\n",
      "[78]\ttrain-rmse:0.14357\teval-rmse:0.22128\n",
      "[79]\ttrain-rmse:0.14244\teval-rmse:0.22098\n",
      "[80]\ttrain-rmse:0.14162\teval-rmse:0.22105\n",
      "[81]\ttrain-rmse:0.14095\teval-rmse:0.22096\n",
      "[82]\ttrain-rmse:0.14047\teval-rmse:0.22089\n",
      "[83]\ttrain-rmse:0.13931\teval-rmse:0.22035\n",
      "[84]\ttrain-rmse:0.13850\teval-rmse:0.22062\n",
      "[85]\ttrain-rmse:0.13765\teval-rmse:0.22039\n",
      "[86]\ttrain-rmse:0.13731\teval-rmse:0.22026\n",
      "[87]\ttrain-rmse:0.13670\teval-rmse:0.22008\n",
      "[88]\ttrain-rmse:0.13608\teval-rmse:0.22007\n",
      "[89]\ttrain-rmse:0.13528\teval-rmse:0.21997\n",
      "[90]\ttrain-rmse:0.13511\teval-rmse:0.22002\n",
      "[91]\ttrain-rmse:0.13445\teval-rmse:0.21998\n",
      "[92]\ttrain-rmse:0.13395\teval-rmse:0.21987\n",
      "[93]\ttrain-rmse:0.13325\teval-rmse:0.21980\n",
      "[94]\ttrain-rmse:0.13285\teval-rmse:0.21975\n",
      "[95]\ttrain-rmse:0.13267\teval-rmse:0.21979\n",
      "[96]\ttrain-rmse:0.13184\teval-rmse:0.21961\n",
      "[97]\ttrain-rmse:0.13104\teval-rmse:0.21955\n",
      "[98]\ttrain-rmse:0.13049\teval-rmse:0.21959\n",
      "[99]\ttrain-rmse:0.13001\teval-rmse:0.21954\n"
     ]
    }
   ],
   "source": [
    "xgb_params = {  \n",
    "    'eta': 0.3,  \n",
    "    'max_depth': 6,  \n",
    "    'min_child_weight': 1,  \n",
    "\n",
    "    'objective': 'reg:squarederror',\n",
    "    'nthread': 8,\n",
    "\n",
    "    'seed': 1,\n",
    "    'verbosity': 1,\n",
    "}\n",
    "\n",
    "\n",
    "# xgb_param['eval_metric'] = 'rmse'\n",
    "watchlist = [(dtrain, 'train'), (dval, 'eval')]\n",
    "\n",
    "num_round = 100\n",
    "bst = xgb.train(xgb_params, dtrain, num_round, watchlist)"
   ]
  },
  {
   "cell_type": "code",
   "execution_count": 32,
   "metadata": {},
   "outputs": [
    {
     "data": {
      "text/plain": [
       "0.2195412561585616"
      ]
     },
     "execution_count": 32,
     "metadata": {},
     "output_type": "execute_result"
    }
   ],
   "source": [
    "y_pred = bst.predict(dval)\n",
    "rmse = mean_squared_error(y_val,y_pred, squared= False)\n",
    "rmse"
   ]
  },
  {
   "cell_type": "markdown",
   "metadata": {
    "id": "3RmcQ1BQ64X-"
   },
   "source": [
    "- Now, change eta first to 0.1 and then to 0.01."
   ]
  },
  {
   "cell_type": "code",
   "execution_count": 33,
   "metadata": {},
   "outputs": [
    {
     "name": "stdout",
     "output_type": "stream",
     "text": [
      "Training with eta 0.100:\n",
      "\n",
      "\n",
      "[0]\ttrain-rmse:10.44371\teval-rmse:10.44938\n",
      "[1]\ttrain-rmse:9.40118\teval-rmse:9.40684\n",
      "[2]\ttrain-rmse:8.46290\teval-rmse:8.46831\n",
      "[3]\ttrain-rmse:7.61859\teval-rmse:7.62391\n",
      "[4]\ttrain-rmse:6.85878\teval-rmse:6.86368\n",
      "[5]\ttrain-rmse:6.17513\teval-rmse:6.17987\n",
      "[6]\ttrain-rmse:5.55992\teval-rmse:5.56416\n",
      "[7]\ttrain-rmse:5.00639\teval-rmse:5.01018\n",
      "[8]\ttrain-rmse:4.50838\teval-rmse:4.51201\n",
      "[9]\ttrain-rmse:4.06030\teval-rmse:4.06384\n",
      "[10]\ttrain-rmse:3.65719\teval-rmse:3.66051\n",
      "[11]\ttrain-rmse:3.29460\teval-rmse:3.29767\n",
      "[12]\ttrain-rmse:2.96847\teval-rmse:2.97146\n",
      "[13]\ttrain-rmse:2.67518\teval-rmse:2.67816\n",
      "[14]\ttrain-rmse:2.41155\teval-rmse:2.41423\n",
      "[15]\ttrain-rmse:2.17452\teval-rmse:2.17720\n",
      "[16]\ttrain-rmse:1.96127\teval-rmse:1.96403\n",
      "[17]\ttrain-rmse:1.76988\teval-rmse:1.77244\n",
      "[18]\ttrain-rmse:1.59791\teval-rmse:1.60080\n",
      "[19]\ttrain-rmse:1.44355\teval-rmse:1.44665\n",
      "[20]\ttrain-rmse:1.30443\teval-rmse:1.30770\n",
      "[21]\ttrain-rmse:1.18002\teval-rmse:1.18332\n",
      "[22]\ttrain-rmse:1.06853\teval-rmse:1.07243\n",
      "[23]\ttrain-rmse:0.96805\teval-rmse:0.97228\n",
      "[24]\ttrain-rmse:0.87809\teval-rmse:0.88264\n",
      "[25]\ttrain-rmse:0.79814\teval-rmse:0.80317\n",
      "[26]\ttrain-rmse:0.72627\teval-rmse:0.73184\n",
      "[27]\ttrain-rmse:0.66261\teval-rmse:0.66886\n",
      "[28]\ttrain-rmse:0.60592\teval-rmse:0.61294\n",
      "[29]\ttrain-rmse:0.55581\teval-rmse:0.56368\n",
      "[30]\ttrain-rmse:0.51050\teval-rmse:0.51933\n",
      "[31]\ttrain-rmse:0.47075\teval-rmse:0.48067\n",
      "[32]\ttrain-rmse:0.43624\teval-rmse:0.44725\n",
      "[33]\ttrain-rmse:0.40555\teval-rmse:0.41778\n",
      "[34]\ttrain-rmse:0.37907\teval-rmse:0.39231\n",
      "[35]\ttrain-rmse:0.35548\teval-rmse:0.37010\n",
      "[36]\ttrain-rmse:0.33547\teval-rmse:0.35109\n",
      "[37]\ttrain-rmse:0.31766\teval-rmse:0.33469\n",
      "[38]\ttrain-rmse:0.30172\teval-rmse:0.32001\n",
      "[39]\ttrain-rmse:0.28822\teval-rmse:0.30778\n",
      "[40]\ttrain-rmse:0.27602\teval-rmse:0.29663\n",
      "[41]\ttrain-rmse:0.26633\teval-rmse:0.28781\n",
      "[42]\ttrain-rmse:0.25824\teval-rmse:0.28062\n",
      "[43]\ttrain-rmse:0.25120\teval-rmse:0.27429\n",
      "[44]\ttrain-rmse:0.24483\teval-rmse:0.26910\n",
      "[45]\ttrain-rmse:0.23902\teval-rmse:0.26400\n",
      "[46]\ttrain-rmse:0.23453\teval-rmse:0.26033\n",
      "[47]\ttrain-rmse:0.23023\teval-rmse:0.25682\n",
      "[48]\ttrain-rmse:0.22628\teval-rmse:0.25357\n",
      "[49]\ttrain-rmse:0.22381\teval-rmse:0.25153\n",
      "[50]\ttrain-rmse:0.22083\teval-rmse:0.24904\n",
      "[51]\ttrain-rmse:0.21850\teval-rmse:0.24729\n",
      "[52]\ttrain-rmse:0.21632\teval-rmse:0.24591\n",
      "[53]\ttrain-rmse:0.21406\teval-rmse:0.24438\n",
      "[54]\ttrain-rmse:0.21241\teval-rmse:0.24328\n",
      "[55]\ttrain-rmse:0.21100\teval-rmse:0.24241\n",
      "[56]\ttrain-rmse:0.20962\teval-rmse:0.24187\n",
      "[57]\ttrain-rmse:0.20826\teval-rmse:0.24102\n",
      "[58]\ttrain-rmse:0.20685\teval-rmse:0.24021\n",
      "[59]\ttrain-rmse:0.20554\teval-rmse:0.23965\n",
      "[60]\ttrain-rmse:0.20427\teval-rmse:0.23890\n",
      "[61]\ttrain-rmse:0.20327\teval-rmse:0.23815\n",
      "[62]\ttrain-rmse:0.20217\teval-rmse:0.23754\n",
      "[63]\ttrain-rmse:0.20124\teval-rmse:0.23714\n",
      "[64]\ttrain-rmse:0.20073\teval-rmse:0.23677\n",
      "[65]\ttrain-rmse:0.20024\teval-rmse:0.23636\n",
      "[66]\ttrain-rmse:0.19928\teval-rmse:0.23572\n",
      "[67]\ttrain-rmse:0.19842\teval-rmse:0.23552\n",
      "[68]\ttrain-rmse:0.19727\teval-rmse:0.23482\n",
      "[69]\ttrain-rmse:0.19624\teval-rmse:0.23444\n",
      "[70]\ttrain-rmse:0.19590\teval-rmse:0.23425\n",
      "[71]\ttrain-rmse:0.19529\teval-rmse:0.23408\n",
      "[72]\ttrain-rmse:0.19471\teval-rmse:0.23396\n",
      "[73]\ttrain-rmse:0.19370\teval-rmse:0.23327\n",
      "[74]\ttrain-rmse:0.19282\teval-rmse:0.23300\n",
      "[75]\ttrain-rmse:0.19206\teval-rmse:0.23273\n",
      "[76]\ttrain-rmse:0.19159\teval-rmse:0.23255\n",
      "[77]\ttrain-rmse:0.19057\teval-rmse:0.23206\n",
      "[78]\ttrain-rmse:0.18969\teval-rmse:0.23206\n",
      "[79]\ttrain-rmse:0.18887\teval-rmse:0.23150\n",
      "[80]\ttrain-rmse:0.18833\teval-rmse:0.23130\n",
      "[81]\ttrain-rmse:0.18796\teval-rmse:0.23100\n",
      "[82]\ttrain-rmse:0.18708\teval-rmse:0.23050\n",
      "[83]\ttrain-rmse:0.18629\teval-rmse:0.23026\n",
      "[84]\ttrain-rmse:0.18580\teval-rmse:0.23014\n",
      "[85]\ttrain-rmse:0.18500\teval-rmse:0.22957\n",
      "[86]\ttrain-rmse:0.18450\teval-rmse:0.22953\n",
      "[87]\ttrain-rmse:0.18342\teval-rmse:0.22895\n",
      "[88]\ttrain-rmse:0.18300\teval-rmse:0.22891\n",
      "[89]\ttrain-rmse:0.18272\teval-rmse:0.22880\n",
      "[90]\ttrain-rmse:0.18231\teval-rmse:0.22871\n",
      "[91]\ttrain-rmse:0.18190\teval-rmse:0.22863\n",
      "[92]\ttrain-rmse:0.18100\teval-rmse:0.22816\n",
      "[93]\ttrain-rmse:0.18029\teval-rmse:0.22798\n",
      "[94]\ttrain-rmse:0.17992\teval-rmse:0.22792\n",
      "[95]\ttrain-rmse:0.17945\teval-rmse:0.22776\n",
      "[96]\ttrain-rmse:0.17888\teval-rmse:0.22746\n",
      "[97]\ttrain-rmse:0.17838\teval-rmse:0.22733\n",
      "[98]\ttrain-rmse:0.17785\teval-rmse:0.22710\n",
      "[99]\ttrain-rmse:0.17730\teval-rmse:0.22691\n",
      "\n",
      "\n",
      "\n",
      "Training with eta 0.010:\n",
      "\n",
      "\n",
      "[0]\ttrain-rmse:11.48634\teval-rmse:11.49225\n",
      "[1]\ttrain-rmse:11.37165\teval-rmse:11.37753\n",
      "[2]\ttrain-rmse:11.25810\teval-rmse:11.26397\n",
      "[3]\ttrain-rmse:11.14569\teval-rmse:11.15153\n",
      "[4]\ttrain-rmse:11.03441\teval-rmse:11.04022\n",
      "[5]\ttrain-rmse:10.92424\teval-rmse:10.93003\n",
      "[6]\ttrain-rmse:10.81517\teval-rmse:10.82094\n",
      "[7]\ttrain-rmse:10.70718\teval-rmse:10.71290\n",
      "[8]\ttrain-rmse:10.60029\teval-rmse:10.60598\n",
      "[9]\ttrain-rmse:10.49445\teval-rmse:10.50010\n",
      "[10]\ttrain-rmse:10.38969\teval-rmse:10.39532\n",
      "[11]\ttrain-rmse:10.28597\teval-rmse:10.29160\n",
      "[12]\ttrain-rmse:10.18328\teval-rmse:10.18889\n",
      "[13]\ttrain-rmse:10.08163\teval-rmse:10.08723\n",
      "[14]\ttrain-rmse:9.98099\teval-rmse:9.98657\n",
      "[15]\ttrain-rmse:9.88136\teval-rmse:9.88695\n",
      "[16]\ttrain-rmse:9.78273\teval-rmse:9.78832\n",
      "[17]\ttrain-rmse:9.68508\teval-rmse:9.69063\n",
      "[18]\ttrain-rmse:9.58841\teval-rmse:9.59393\n",
      "[19]\ttrain-rmse:9.49271\teval-rmse:9.49823\n",
      "[20]\ttrain-rmse:9.39796\teval-rmse:9.40346\n",
      "[21]\ttrain-rmse:9.30416\teval-rmse:9.30966\n",
      "[22]\ttrain-rmse:9.21131\teval-rmse:9.21680\n",
      "[23]\ttrain-rmse:9.11938\teval-rmse:9.12486\n",
      "[24]\ttrain-rmse:9.02836\teval-rmse:9.03382\n",
      "[25]\ttrain-rmse:8.93827\teval-rmse:8.94370\n",
      "[26]\ttrain-rmse:8.84906\teval-rmse:8.85448\n",
      "[27]\ttrain-rmse:8.76076\teval-rmse:8.76616\n",
      "[28]\ttrain-rmse:8.67333\teval-rmse:8.67871\n",
      "[29]\ttrain-rmse:8.58678\teval-rmse:8.59214\n",
      "[30]\ttrain-rmse:8.50110\teval-rmse:8.50645\n",
      "[31]\ttrain-rmse:8.41628\teval-rmse:8.42160\n",
      "[32]\ttrain-rmse:8.33230\teval-rmse:8.33760\n",
      "[33]\ttrain-rmse:8.24917\teval-rmse:8.25445\n",
      "[34]\ttrain-rmse:8.16687\teval-rmse:8.17212\n",
      "[35]\ttrain-rmse:8.08539\teval-rmse:8.09064\n",
      "[36]\ttrain-rmse:8.00473\teval-rmse:8.00996\n",
      "[37]\ttrain-rmse:7.92488\teval-rmse:7.93008\n",
      "[38]\ttrain-rmse:7.84582\teval-rmse:7.85101\n",
      "[39]\ttrain-rmse:7.76756\teval-rmse:7.77273\n",
      "[40]\ttrain-rmse:7.69008\teval-rmse:7.69524\n",
      "[41]\ttrain-rmse:7.61338\teval-rmse:7.61852\n",
      "[42]\ttrain-rmse:7.53744\teval-rmse:7.54256\n",
      "[43]\ttrain-rmse:7.46227\teval-rmse:7.46738\n",
      "[44]\ttrain-rmse:7.38785\teval-rmse:7.39293\n",
      "[45]\ttrain-rmse:7.31418\teval-rmse:7.31924\n",
      "[46]\ttrain-rmse:7.24123\teval-rmse:7.24628\n",
      "[47]\ttrain-rmse:7.16903\teval-rmse:7.17406\n",
      "[48]\ttrain-rmse:7.09755\teval-rmse:7.10257\n",
      "[49]\ttrain-rmse:7.02678\teval-rmse:7.03178\n",
      "[50]\ttrain-rmse:6.95672\teval-rmse:6.96171\n",
      "[51]\ttrain-rmse:6.88736\teval-rmse:6.89235\n",
      "[52]\ttrain-rmse:6.81870\teval-rmse:6.82366\n",
      "[53]\ttrain-rmse:6.75073\teval-rmse:6.75567\n",
      "[54]\ttrain-rmse:6.68343\teval-rmse:6.68837\n",
      "[55]\ttrain-rmse:6.61681\teval-rmse:6.62173\n",
      "[56]\ttrain-rmse:6.55086\teval-rmse:6.55575\n",
      "[57]\ttrain-rmse:6.48557\teval-rmse:6.49045\n",
      "[58]\ttrain-rmse:6.42093\teval-rmse:6.42577\n",
      "[59]\ttrain-rmse:6.35694\teval-rmse:6.36176\n",
      "[60]\ttrain-rmse:6.29359\teval-rmse:6.29837\n",
      "[61]\ttrain-rmse:6.23088\teval-rmse:6.23563\n",
      "[62]\ttrain-rmse:6.16880\teval-rmse:6.17353\n",
      "[63]\ttrain-rmse:6.10733\teval-rmse:6.11205\n",
      "[64]\ttrain-rmse:6.04649\teval-rmse:6.05116\n",
      "[65]\ttrain-rmse:5.98625\teval-rmse:5.99091\n",
      "[66]\ttrain-rmse:5.92661\teval-rmse:5.93123\n",
      "[67]\ttrain-rmse:5.86758\teval-rmse:5.87214\n",
      "[68]\ttrain-rmse:5.80913\teval-rmse:5.81365\n",
      "[69]\ttrain-rmse:5.75127\teval-rmse:5.75574\n",
      "[70]\ttrain-rmse:5.69399\teval-rmse:5.69842\n",
      "[71]\ttrain-rmse:5.63728\teval-rmse:5.64167\n",
      "[72]\ttrain-rmse:5.58115\teval-rmse:5.58551\n",
      "[73]\ttrain-rmse:5.52557\teval-rmse:5.52990\n",
      "[74]\ttrain-rmse:5.47055\teval-rmse:5.47483\n",
      "[75]\ttrain-rmse:5.41608\teval-rmse:5.42032\n",
      "[76]\ttrain-rmse:5.36217\teval-rmse:5.36638\n",
      "[77]\ttrain-rmse:5.30879\teval-rmse:5.31296\n",
      "[78]\ttrain-rmse:5.25594\teval-rmse:5.26007\n",
      "[79]\ttrain-rmse:5.20363\teval-rmse:5.20771\n",
      "[80]\ttrain-rmse:5.15184\teval-rmse:5.15589\n",
      "[81]\ttrain-rmse:5.10057\teval-rmse:5.10458\n",
      "[82]\ttrain-rmse:5.04981\teval-rmse:5.05379\n",
      "[83]\ttrain-rmse:4.99956\teval-rmse:5.00352\n",
      "[84]\ttrain-rmse:4.94982\teval-rmse:4.95374\n",
      "[85]\ttrain-rmse:4.90058\teval-rmse:4.90445\n",
      "[86]\ttrain-rmse:4.85182\teval-rmse:4.85565\n",
      "[87]\ttrain-rmse:4.80356\teval-rmse:4.80736\n",
      "[88]\ttrain-rmse:4.75578\teval-rmse:4.75955\n",
      "[89]\ttrain-rmse:4.70848\teval-rmse:4.71223\n",
      "[90]\ttrain-rmse:4.66166\teval-rmse:4.66539\n",
      "[91]\ttrain-rmse:4.61530\teval-rmse:4.61899\n",
      "[92]\ttrain-rmse:4.56940\teval-rmse:4.57307\n",
      "[93]\ttrain-rmse:4.52397\teval-rmse:4.52762\n"
     ]
    },
    {
     "name": "stdout",
     "output_type": "stream",
     "text": [
      "[94]\ttrain-rmse:4.47900\teval-rmse:4.48263\n",
      "[95]\ttrain-rmse:4.43448\teval-rmse:4.43807\n",
      "[96]\ttrain-rmse:4.39040\teval-rmse:4.39395\n",
      "[97]\ttrain-rmse:4.34677\teval-rmse:4.35028\n",
      "[98]\ttrain-rmse:4.30357\teval-rmse:4.30704\n",
      "[99]\ttrain-rmse:4.26081\teval-rmse:4.26426\n",
      "\n",
      "\n",
      "\n",
      "Training complete\n",
      "\n",
      "\n",
      "For eta 0.100, RMSE is 0.22691 \n",
      "For eta 0.010, RMSE is 4.26426 \n"
     ]
    }
   ],
   "source": [
    "eta_list =  [0.1,0.01]\n",
    "RMSE = []\n",
    "\n",
    "for eta in eta_list:\n",
    "    xgb_params['eta'] = eta\n",
    "    num_round = 100\n",
    "    print (\"Training with eta %0.3f:\\n\\n\" %(eta))\n",
    "    bst = xgb.train(xgb_params, dtrain, num_round, watchlist)\n",
    "    print (\"\\n\\n\")\n",
    "    y_pred = bst.predict(dval)\n",
    "    rmse = mean_squared_error(y_val,y_pred, squared= False)\n",
    "    RMSE.append(rmse)\n",
    "\n",
    "\n",
    "print(\"Training complete\\n\\n\")\n",
    "for i,eta in enumerate(eta_list):\n",
    "    print (\"For eta %0.3f, RMSE is %0.5f \" %(eta, RMSE[i]))    \n"
   ]
  },
  {
   "cell_type": "markdown",
   "metadata": {
    "id": "Yl6Xn6Zb76iH"
   },
   "source": [
    "- Which eta leads to the best RMSE score on the validation dataset?\n",
    "-Answer:\n",
    "     \n",
    "     - RMSE of 0.01 is worst at 4.26426, \n",
    "     - for 0.1 it is 0.22691, \n",
    "     - whereas 0.3 gives best RMSE of 0.21954"
   ]
  }
 ],
 "metadata": {
  "colab": {
   "provenance": []
  },
  "kernelspec": {
   "display_name": "Python 3 (ipykernel)",
   "language": "python",
   "name": "python3"
  },
  "language_info": {
   "codemirror_mode": {
    "name": "ipython",
    "version": 3
   },
   "file_extension": ".py",
   "mimetype": "text/x-python",
   "name": "python",
   "nbconvert_exporter": "python",
   "pygments_lexer": "ipython3",
   "version": "3.9.13"
  }
 },
 "nbformat": 4,
 "nbformat_minor": 1
}

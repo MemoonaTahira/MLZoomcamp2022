{
 "cells": [
  {
   "cell_type": "markdown",
   "id": "79faf504",
   "metadata": {},
   "source": [
    "## Homework\n",
    "\n",
    "In this homework, we will use Credit Card Data from [the previous homework](https://github.com/alexeygrigorev/mlbookcamp-code/blob/master/course-zoomcamp/cohorts/2022/04-evaluation/homework.md).\n",
    "\n",
    "> Note: sometimes your answer doesn't match one of the options exactly. That's fine. \n",
    "Select the option that's closest to your solution.\n",
    "\n",
    "\n",
    "## Question 1\n",
    "\n",
    "* Install Pipenv\n",
    "* What's the version of pipenv you installed?\n",
    "* Use `--version` to find out\n"
   ]
  },
  {
   "cell_type": "code",
   "execution_count": 1,
   "id": "38ec3cda",
   "metadata": {},
   "outputs": [
    {
     "name": "stdout",
     "output_type": "stream",
     "text": [
      "\u001b[1mpipenv\u001b[0m, version 2022.10.9\n",
      "\u001b[0m"
     ]
    }
   ],
   "source": [
    "!pipenv --version"
   ]
  },
  {
   "cell_type": "markdown",
   "id": "0ee3006e",
   "metadata": {},
   "source": [
    "## Question 2\n",
    "\n",
    "* Use Pipenv to install Scikit-Learn version 1.0.2\n",
    "* What's the first hash for scikit-learn you get in Pipfile.lock?\n",
    "\n",
    "Note: you should create an empty folder for homework\n",
    "and do it there. "
   ]
  },
  {
   "cell_type": "markdown",
   "id": "98273467",
   "metadata": {},
   "source": [
    "**\"sha256:08ef968f6b72033c16c479c966bf37ccd49b06ea91b765e1cc27afefe723920b\"**\n"
   ]
  },
  {
   "cell_type": "markdown",
   "id": "fa33b037",
   "metadata": {},
   "source": [
    "## Models\n",
    "\n",
    "We've prepared a dictionary vectorizer and a model.\n",
    "\n",
    "They were trained (roughly) using this code:\n",
    "\n",
    "```python\n",
    "features = ['reports', 'share', 'expenditure', 'owner']\n",
    "dicts = df[features].to_dict(orient='records')\n",
    "\n",
    "dv = DictVectorizer(sparse=False)\n",
    "X = dv.fit_transform(dicts)\n",
    "\n",
    "model = LogisticRegression(solver='liblinear').fit(X, y)\n",
    "```\n",
    "\n",
    "> **Note**: You don't need to train the model. This code is just for your reference.\n",
    "\n",
    "And then saved with Pickle. Download them:\n",
    "\n",
    "* [DictVectorizer](https://github.com/alexeygrigorev/mlbookcamp-code/blob/master/course-zoomcamp/cohorts/2022/05-deployment/homework/dv.bin?raw=true)\n",
    "* [LogisticRegression](https://github.com/alexeygrigorev/mlbookcamp-code/blob/master/course-zoomcamp/cohorts/2022/05-deployment/homework/model1.bin?raw=true)\n",
    "\n",
    "With `wget`:\n",
    "\n",
    "```bash\n",
    "PREFIX=https://raw.githubusercontent.com/alexeygrigorev/mlbookcamp-code/master/course-zoomcamp/cohorts/2022/05-deployment/homework\n",
    "wget $PREFIX/model1.bin\n",
    "wget $PREFIX/dv.bin\n",
    "```\n",
    "\n"
   ]
  },
  {
   "cell_type": "code",
   "execution_count": 3,
   "id": "dba8f505",
   "metadata": {
    "scrolled": true
   },
   "outputs": [
    {
     "name": "stdout",
     "output_type": "stream",
     "text": [
      "--2022-10-11 02:26:24--  https://raw.githubusercontent.com/alexeygrigorev/mlbookcamp-code/master/course-zoomcamp/cohorts/2022/05-deployment/homework/model1.bin\n",
      "Resolving raw.githubusercontent.com (raw.githubusercontent.com)... 185.199.110.133, 185.199.109.133, 185.199.108.133, ...\n",
      "Connecting to raw.githubusercontent.com (raw.githubusercontent.com)|185.199.110.133|:443... connected.\n",
      "HTTP request sent, awaiting response... 200 OK\n",
      "Length: 889 [application/octet-stream]\n",
      "Saving to: ‘model1.bin’\n",
      "\n",
      "model1.bin          100%[===================>]     889  --.-KB/s    in 0s      \n",
      "\n",
      "2022-10-11 02:26:25 (32.4 MB/s) - ‘model1.bin’ saved [889/889]\n",
      "\n",
      "--2022-10-11 02:26:25--  https://raw.githubusercontent.com/alexeygrigorev/mlbookcamp-code/master/course-zoomcamp/cohorts/2022/05-deployment/homework/dv.bin\n",
      "Resolving raw.githubusercontent.com (raw.githubusercontent.com)... 185.199.110.133, 185.199.109.133, 185.199.108.133, ...\n",
      "Connecting to raw.githubusercontent.com (raw.githubusercontent.com)|185.199.110.133|:443... connected.\n",
      "HTTP request sent, awaiting response... 200 OK\n",
      "Length: 333 [application/octet-stream]\n",
      "Saving to: ‘dv.bin’\n",
      "\n",
      "dv.bin              100%[===================>]     333  --.-KB/s    in 0s      \n",
      "\n",
      "2022-10-11 02:26:27 (10.8 MB/s) - ‘dv.bin’ saved [333/333]\n",
      "\n"
     ]
    }
   ],
   "source": [
    "PREFIX=\"https://raw.githubusercontent.com/alexeygrigorev/mlbookcamp-code/master/course-zoomcamp/cohorts/2022/05-deployment/homework\"\n",
    "\n",
    "!wget $PREFIX/model1.bin\n",
    "!wget $PREFIX/dv.bin"
   ]
  },
  {
   "cell_type": "code",
   "execution_count": 5,
   "id": "b5fc656d",
   "metadata": {
    "scrolled": true
   },
   "outputs": [
    {
     "name": "stdout",
     "output_type": "stream",
     "text": [
      "HW5.ipynb  Pipfile.lock\t\t    dv.bin    homework.md\r\n",
      "Pipfile    credit_predict_flask.py  homework  model1.bin\r\n"
     ]
    }
   ],
   "source": [
    "!ls"
   ]
  },
  {
   "cell_type": "code",
   "execution_count": 1,
   "id": "42069978",
   "metadata": {},
   "outputs": [],
   "source": [
    "import pickle\n",
    "\n",
    "from flask import Flask\n",
    "from flask import request\n",
    "from flask import jsonify\n",
    "\n",
    "import requests"
   ]
  },
  {
   "cell_type": "markdown",
   "id": "9fca8972",
   "metadata": {},
   "source": [
    "## Question 3\n",
    "\n",
    "Let's use these models!\n",
    "\n",
    "* Write a script for loading these models with pickle\n",
    "* Score this client:\n",
    "\n",
    "```json\n",
    "{\"reports\": 0, \"share\": 0.001694, \"expenditure\": 0.12, \"owner\": \"yes\"}\n",
    "```\n",
    "\n",
    "What's the probability that this client will get a credit card? \n",
    "\n",
    "* 0.162\n",
    "* 0.391\n",
    "* 0.601\n",
    "* 0.993\n",
    "\n",
    "If you're getting errors when unpickling the files, check their checksum:\n",
    "\n",
    "```bash\n",
    "$ md5sum model1.bin dv.bin\n",
    "3f57f3ebfdf57a9e1368dcd0f28a4a14  model1.bin\n",
    "6b7cded86a52af7e81859647fa3a5c2e  dv.bin\n",
    "```\n",
    "\n"
   ]
  },
  {
   "cell_type": "code",
   "execution_count": 2,
   "id": "57cdc5a8",
   "metadata": {},
   "outputs": [
    {
     "name": "stdout",
     "output_type": "stream",
     "text": [
      "3f57f3ebfdf57a9e1368dcd0f28a4a14  model1.bin\r\n",
      "6b7cded86a52af7e81859647fa3a5c2e  dv.bin\r\n"
     ]
    }
   ],
   "source": [
    "!md5sum model1.bin dv.bin"
   ]
  },
  {
   "cell_type": "code",
   "execution_count": 3,
   "id": "b78b9077",
   "metadata": {
    "scrolled": true
   },
   "outputs": [
    {
     "name": "stdout",
     "output_type": "stream",
     "text": [
      "Probability that customer will get a credit card is:  0.162\n",
      "Will he get a credit card?  False\n"
     ]
    }
   ],
   "source": [
    "model_file = 'model1.bin'\n",
    "dv_file = 'dv.bin'\n",
    "\n",
    "with open(model_file, 'rb') as f_in:\n",
    "    model1 = pickle.load(f_in)\n",
    "    f_in.close()\n",
    "    \n",
    "with open(dv_file, 'rb') as f_in:\n",
    "    dv1 = pickle.load(f_in)\n",
    "    f_in.close()\n",
    "\n",
    "\n",
    "\n",
    "client = {\"reports\": 0, \"share\": 0.001694, \"expenditure\": 0.12, \"owner\": \"yes\"}\n",
    "\n",
    "def predict(client):\n",
    "    \n",
    "    X = dv1.transform([client])\n",
    "    y_pred = model1.predict_proba(X)[0, 1]\n",
    "    credit_bool = y_pred >= 0.5\n",
    "\n",
    "    \n",
    "    credit_prob = float(y_pred)\n",
    "    credit_bool =  bool(credit_bool)\n",
    "\n",
    "    return credit_prob, credit_bool\n",
    "\n",
    "\n",
    "credit_prob, credit_bool = predict(client)\n",
    "\n",
    "print (\"Probability that customer will get a credit card is: \", round(credit_prob, 3))\n",
    "print (\"Will he get a credit card? \", credit_bool)"
   ]
  },
  {
   "cell_type": "markdown",
   "id": "a12fc391",
   "metadata": {},
   "source": [
    "## Question 4\n",
    "\n",
    "Now let's serve this model as a web service\n",
    "\n",
    "* Install Flask and gunicorn (or waitress, if you're on Windows)\n",
    "* Write Flask code for serving the model\n",
    "* Now score this client using `requests`:\n",
    "\n",
    "```python\n",
    "url = \"YOUR_URL\"\n",
    "client = {\"reports\": 0, \"share\": 0.245, \"expenditure\": 3.438, \"owner\": \"yes\"}\n",
    "requests.post(url, json=client).json()\n",
    "```\n",
    "\n",
    "What's the probability that this client will get a credit card?\n",
    "\n",
    "* 0.274\n",
    "* 0.484\n",
    "* 0.698\n",
    "* 0.928\n",
    "\n"
   ]
  },
  {
   "cell_type": "markdown",
   "id": "6a232f2b",
   "metadata": {
    "scrolled": true
   },
   "source": [
    "```\n",
    "#### code for flask app whether a use is likely to apply for a credit card,  run from ubuntu terminal: #######\n",
    "\n",
    "import pickle\n",
    "from flask import Flask\n",
    "from flask import request\n",
    "from flask import jsonify\n",
    "import requests\n",
    "import wget\n",
    "\n",
    "\n",
    "\n",
    "model_file = \"model1.bin\"\n",
    "dv_file = \"dv.bin\"\n",
    "\n",
    "\n",
    "with open(model_file, 'rb') as f_in:\n",
    "    model1 = pickle.load(f_in)\n",
    "    f_in.close()\n",
    "    \n",
    "with open(dv_file, 'rb') as f_in:\n",
    "    dv1 = pickle.load(f_in)\n",
    "    f_in.close()\n",
    "\n",
    "\n",
    "app = Flask('credit_card')\n",
    "@app.route('/predict', methods=['POST'])\n",
    "\n",
    "def predict():\n",
    "    \n",
    "    client = request.get_json()\n",
    "    X = dv1.transform([client])\n",
    "    y_pred = model1.predict_proba(X)[0, 1]\n",
    "    credit_bool = y_pred >= 0.5\n",
    "\n",
    "    result = {\n",
    "        'credit_card_prob': float(y_pred),\n",
    "        'credit_bool': bool(credit_bool)\n",
    "    }\n",
    "    return jsonify(result)\n",
    "\n",
    "\n",
    "if __name__ == '__main__':\n",
    "\n",
    "     app.run(debug=True, host='0.0.0.0', port=9696)\n",
    "\n",
    "     # we call from 0.0.0.0, and three messages: but translated to 127.0.0.1\n",
    "     # better than localhost\n",
    "\n",
    "```\n"
   ]
  },
  {
   "cell_type": "markdown",
   "id": "4620cadd",
   "metadata": {},
   "source": [
    "After starting the credit_card_predict service from vscode on port 9696:"
   ]
  },
  {
   "cell_type": "code",
   "execution_count": 5,
   "id": "1119023d",
   "metadata": {},
   "outputs": [
    {
     "name": "stdout",
     "output_type": "stream",
     "text": [
      "{'credit_bool': True, 'credit_card_prob': 0.9282218018527452}\n",
      "\n",
      "Sending promo email to client with these details to get a credit card {'reports': 0, 'share': 0.245, 'expenditure': 3.438, 'owner': 'yes'}\n"
     ]
    }
   ],
   "source": [
    "client = {\"reports\": 0, \"share\": 0.245, \"expenditure\": 3.438, \"owner\": \"yes\"}\n",
    "\n",
    "# Runs on all 4: \n",
    "# url = 'http://0.0.0.:9696/predict'\n",
    "# url = 'http://localhost:9696/predict'\n",
    "url = 'http://127.0.0.1:9696/predict'\n",
    "# url = 'http://172.30.58.76:9696/predict'\n",
    "\n",
    "\n",
    "response = requests.post(url, json= client).json()\n",
    "\n",
    "print(response)\n",
    "\n",
    "if response['credit_bool'] == True:\n",
    "   print('\\nSending promo email to client with these details to get a credit card %s' % client)\n",
    "else:\n",
    "   print('\\nNot sending promo email for credit card to:\\n %s' % client)"
   ]
  },
  {
   "cell_type": "markdown",
   "id": "3cc34a83",
   "metadata": {},
   "source": [
    "## Docker\n",
    "\n",
    "Install [Docker](https://github.com/alexeygrigorev/mlbookcamp-code/blob/master/course-zoomcamp/05-deployment/06-docker.md). We will use it for the next two questions.\n",
    "\n",
    "For these questions, we prepared a base image: `svizor/zoomcamp-model:3.9.12-slim`. \n",
    "You'll need to use it (see Question 5 for an example).\n",
    "\n",
    "This image is based on `python:3.9.12-slim` and has a logistic regression model \n",
    "(a different one) as well a dictionary vectorizer inside. \n",
    "\n",
    "This is how the Dockerfile for this image looks like:\n",
    "\n",
    "```docker \n",
    "FROM python:3.9.12-slim\n",
    "WORKDIR /app\n",
    "COPY [\"model2.bin\", \"dv.bin\", \"./\"]\n",
    "```\n",
    "\n",
    "We already built it and then pushed it to [`svizor/zoomcamp-model:3.9.12-slim`](https://hub.docker.com/r/svizor/zoomcamp-model).\n",
    "\n",
    "> **Note**: You don't need to build this docker image, it's just for your reference.\n",
    "\n"
   ]
  },
  {
   "cell_type": "markdown",
   "id": "786173bb",
   "metadata": {},
   "source": [
    "## Question 5\n",
    "\n",
    "Download the base image `svizor/zoomcamp-model:3.9.12-slim`. You can easily make it by using [docker pull](https://docs.docker.com/engine/reference/commandline/pull/) command.\n",
    "\n",
    "So what's the size of this base image?\n",
    "\n",
    "* 15 Mb\n",
    "* 125 Mb\n",
    "* 275 Mb\n",
    "* 415 Mb\n",
    "\n",
    "You can get this information when running `docker images` - it'll be in the \"SIZE\" column.m"
   ]
  },
  {
   "cell_type": "code",
   "execution_count": 4,
   "id": "8c935a6f",
   "metadata": {},
   "outputs": [
    {
     "name": "stdout",
     "output_type": "stream",
     "text": [
      "3.9.12-slim: Pulling from svizor/zoomcamp-model\n",
      "Digest: sha256:10445b40653d5ac17ede84db17f42ae8c4090b347a979372b8102174498b33b9\n",
      "Status: Image is up to date for svizor/zoomcamp-model:3.9.12-slim\n",
      "docker.io/svizor/zoomcamp-model:3.9.12-slim\n"
     ]
    }
   ],
   "source": [
    "!docker pull svizor/zoomcamp-model:3.9.12-slim"
   ]
  },
  {
   "cell_type": "code",
   "execution_count": 11,
   "id": "6efc6256",
   "metadata": {},
   "outputs": [
    {
     "name": "stdout",
     "output_type": "stream",
     "text": [
      "REPOSITORY              TAG           IMAGE ID       CREATED             SIZE\n",
      "zoomcamp                latest        959ca4cc3b25   22 minutes ago      755MB\n",
      "zoomcamp-test           latest        39a3f542fe81   About an hour ago   755MB\n",
      "svizor/zoomcamp-model   3.9.12-slim   571a6fdc554b   9 days ago          125MB\n"
     ]
    }
   ],
   "source": [
    "!docker images"
   ]
  },
  {
   "cell_type": "markdown",
   "id": "a5a9bfcc",
   "metadata": {},
   "source": [
    "Size is: 125MB"
   ]
  },
  {
   "cell_type": "markdown",
   "id": "50b8f753",
   "metadata": {},
   "source": [
    "## Dockerfile\n",
    "\n",
    "Now create your own Dockerfile based on the image we prepared.\n",
    "\n",
    "It should start like that:\n",
    "\n",
    "```docker\n",
    "FROM svizor/zoomcamp-model:3.9.12-slim\n",
    "# add your stuff here\n",
    "```\n",
    "\n",
    "Now complete it:\n",
    "\n",
    "* Install all the dependencies form the Pipenv file\n",
    "* Copy your Flask script\n",
    "* Run it with Gunicorn \n",
    "\n",
    "After that, you can build your docker image.\n"
   ]
  },
  {
   "cell_type": "markdown",
   "id": "babd0805",
   "metadata": {},
   "source": [
    "```\n",
    "Docker file: FROM  svizor/zoomcamp-model:3.9.12-slim\n",
    "\n",
    "RUN pip install pipenv\n",
    "\n",
    "WORKDIR /app\n",
    "COPY [\"Pipfile\",\"Pipfile.lock\", \"./\"]\n",
    "\n",
    "RUN pipenv install --system --deploy\n",
    "\n",
    "COPY [\"docker_predict_credit.py\", \"./\"]\n",
    "\n",
    "EXPOSE 9000\n",
    "ENTRYPOINT [ \"gunicorn\", \"--bind=0.0.0.0:9000\", \"docker_predict_credit:app\" ]\n",
    "```\n"
   ]
  },
  {
   "cell_type": "markdown",
   "id": "05ff5931",
   "metadata": {},
   "source": [
    "**In the prediction code, changed port for docker to 9000 and added model2.bin as model file.**"
   ]
  },
  {
   "cell_type": "markdown",
   "id": "e344eb6c",
   "metadata": {},
   "source": [
    "## Question 6\n",
    "\n",
    "Let's run your docker container!\n",
    "\n",
    "After running it, score this client once again:\n",
    "\n",
    "```python\n",
    "url = \"YOUR_URL\"\n",
    "client = {\"reports\": 0, \"share\": 0.245, \"expenditure\": 3.438, \"owner\": \"yes\"}\n",
    "requests.post(url, json=client).json()\n",
    "```\n",
    "\n",
    "What's the probability that this client will get a credit card now?\n",
    "\n",
    "* 0.289\n",
    "* 0.502\n",
    "* 0.769\n",
    "* 0.972\n",
    "\n"
   ]
  },
  {
   "cell_type": "code",
   "execution_count": 2,
   "id": "ce891ce1",
   "metadata": {},
   "outputs": [
    {
     "name": "stdout",
     "output_type": "stream",
     "text": [
      "{'credit_bool': True, 'credit_card_prob': 0.7692649226628628}\n",
      "\n",
      "Sending promo email to client with these details to get a credit card {'reports': 0, 'share': 0.245, 'expenditure': 3.438, 'owner': 'yes'}\n"
     ]
    }
   ],
   "source": [
    "client = {\"reports\": 0, \"share\": 0.245, \"expenditure\": 3.438, \"owner\": \"yes\"}\n",
    "\n",
    "url = 'http://0.0.0.0:9000/predict'\n",
    "\n",
    "response = requests.post(url, json= client).json()\n",
    "\n",
    "print(response)\n",
    "\n",
    "if response['credit_bool'] == True:\n",
    "   print('\\nSending promo email to client with these details to get a credit card %s' % client)\n",
    "else:\n",
    "   print('\\nNot sending promo email for credit card to:\\n %s' % client)"
   ]
  },
  {
   "cell_type": "code",
   "execution_count": null,
   "id": "08727296",
   "metadata": {},
   "outputs": [],
   "source": []
  }
 ],
 "metadata": {
  "kernelspec": {
   "display_name": "Python 3 (ipykernel)",
   "language": "python",
   "name": "python3"
  },
  "language_info": {
   "codemirror_mode": {
    "name": "ipython",
    "version": 3
   },
   "file_extension": ".py",
   "mimetype": "text/x-python",
   "name": "python",
   "nbconvert_exporter": "python",
   "pygments_lexer": "ipython3",
   "version": "3.9.13"
  },
  "vscode": {
   "interpreter": {
    "hash": "12315112b7b7dfeddf37148a57ad5321cf3cf8d9ef5509d5d56bc8d52159c03b"
   }
  }
 },
 "nbformat": 4,
 "nbformat_minor": 5
}
